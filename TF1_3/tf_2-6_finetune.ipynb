{
 "cells": [
  {
   "cell_type": "code",
   "execution_count": 1,
   "metadata": {
    "collapsed": true
   },
   "outputs": [],
   "source": [
    "import argparse\n",
    "import sys\n",
    "from tensorflow.examples.tutorials.mnist import input_data\n",
    "import tensorflow as tf\n",
    "from importlib import import_module\n",
    "import_module('tf_2-6_checkpoint')\n",
    "\n",
    "FLAGS = None\n",
    "\n",
    "\n",
    "def cnn():\n",
    "    # Create the model\n",
    "    x = tf.placeholder(tf.float32, [None, 784])\n",
    "\n",
    "    # Define loss and optimizer\n",
    "    y_ = tf.placeholder(tf.float32, [None, 10])\n",
    "    \n",
    "    # Build the graph for the deep net\n",
    "    cnn = sys.modules['tf_2-6_checkpoint']\n",
    "    y_conv, keep_prob =  cnn.deepnn(x)\n",
    "    return y_conv, keep_prob, x, y_  "
   ]
  },
  {
   "cell_type": "code",
   "execution_count": 2,
   "metadata": {
    "collapsed": true
   },
   "outputs": [],
   "source": [
    "y_conv, keep_prob, x, y_ = cnn()"
   ]
  },
  {
   "cell_type": "code",
   "execution_count": 3,
   "metadata": {},
   "outputs": [
    {
     "name": "stdout",
     "output_type": "stream",
     "text": [
      "<tf.Variable 'conv1/Variable:0' shape=(5, 5, 1, 32) dtype=float32_ref>\n",
      "<tf.Variable 'conv1/Variable_1:0' shape=(32,) dtype=float32_ref>\n",
      "<tf.Variable 'conv2/Variable:0' shape=(5, 5, 32, 64) dtype=float32_ref>\n",
      "<tf.Variable 'conv2/Variable_1:0' shape=(64,) dtype=float32_ref>\n",
      "<tf.Variable 'fc1/Variable:0' shape=(3136, 1024) dtype=float32_ref>\n",
      "<tf.Variable 'fc1/Variable_1:0' shape=(1024,) dtype=float32_ref>\n",
      "<tf.Variable 'fc2/Variable:0' shape=(1024, 10) dtype=float32_ref>\n",
      "<tf.Variable 'fc2/Variable_1:0' shape=(10,) dtype=float32_ref>\n",
      "[<tf.Variable 'fc2/Variable:0' shape=(1024, 10) dtype=float32_ref>, <tf.Variable 'fc2/Variable_1:0' shape=(10,) dtype=float32_ref>]\n"
     ]
    }
   ],
   "source": [
    "for var in tf.trainable_variables():\n",
    "    print(var)\n",
    "    \n",
    "fine_tune_var_list = [i for i in tf.trainable_variables() if 'fc2' in i.name]\n",
    "print(fine_tune_var_list)"
   ]
  },
  {
   "cell_type": "code",
   "execution_count": null,
   "metadata": {
    "collapsed": true
   },
   "outputs": [],
   "source": [
    "def main(_):\n",
    "    # Import data\n",
    "    mnist = input_data.read_data_sets(FLAGS.data_dir, one_hot=True,\n",
    "                                      validation_size=10000)\n",
    "        \n",
    "    with tf.name_scope('loss'):\n",
    "        cross_entropy = tf.nn.softmax_cross_entropy_with_logits(labels=y_, logits=y_conv)\n",
    "        cross_entropy = tf.reduce_mean(cross_entropy)\n",
    "    \n",
    "    with tf.name_scope('adam_optimizer'):\n",
    "        gradients = tf.gradients(cross_entropy, fine_tune_var_list)\n",
    "        gradients = list(zip(gradients, fine_tune_var_list))\n",
    "        optimizer = tf.train.AdamOptimizer(1e-4)\n",
    "        train_step = optimizer.apply_gradients(grads_and_vars=gradients)\n",
    "        \n",
    "    with tf.name_scope('accuracy'):\n",
    "        correct_prediction = tf.equal(\n",
    "            tf.argmax(y_conv, 1), tf.argmax(y_, 1))\n",
    "        correct_prediction = tf.cast(correct_prediction, tf.float32)\n",
    "        accuracy = tf.reduce_mean(correct_prediction)\n",
    "\n",
    "    best = 0\n",
    "    with tf.Session() as sess:\n",
    "        ckpt = tf.train.get_checkpoint_state('MNIST/logs/tf2-6/checkpoint')\n",
    "        tf.train.Saver().restore(sess, ckpt.model_checkpoint_path)\n",
    "        for epoch in range(20):\n",
    "            for _ in range(1000):\n",
    "                batch = mnist.train.next_batch(50)\n",
    "                train_step.run(feed_dict={x: batch[0], y_: batch[1], keep_prob: 0.5})\n",
    "            accuracy_validation = accuracy.eval(\n",
    "                feed_dict={x: mnist.validation.images,\n",
    "                           y_: mnist.validation.labels,\n",
    "                           keep_prob: 1.0})\n",
    "            print('epoch %d, validation accuracy %s' % (epoch + 1, accuracy_validation))\n",
    "            best = (best, accuracy_validation)[best <= accuracy_validation]\n",
    "\n",
    "    # Test trained model\n",
    "    print(\"best: %s\" % best)"
   ]
  },
  {
   "cell_type": "code",
   "execution_count": null,
   "metadata": {},
   "outputs": [
    {
     "name": "stdout",
     "output_type": "stream",
     "text": [
      "Extracting ../MNIST/train-images-idx3-ubyte.gz\n",
      "Extracting ../MNIST/train-labels-idx1-ubyte.gz\n",
      "Extracting ../MNIST/t10k-images-idx3-ubyte.gz\n",
      "Extracting ../MNIST/t10k-labels-idx1-ubyte.gz\n",
      "INFO:tensorflow:Restoring parameters from MNIST/logs/tf2-6/checkpoint\\model.ckpt-60\n"
     ]
    }
   ],
   "source": [
    "if __name__ == '__main__':\n",
    "    parser = argparse.ArgumentParser()\n",
    "    parser.add_argument('--data_dir', type=str, default='../MNIST/',\n",
    "                        help='Directory for storing input data')\n",
    "    FLAGS, unparsed = parser.parse_known_args()\n",
    "    tf.app.run(main=main, argv=[sys.argv[0]] + unparsed)"
   ]
  },
  {
   "cell_type": "code",
   "execution_count": null,
   "metadata": {
    "collapsed": true
   },
   "outputs": [],
   "source": []
  },
  {
   "cell_type": "code",
   "execution_count": null,
   "metadata": {
    "collapsed": true
   },
   "outputs": [],
   "source": []
  }
 ],
 "metadata": {
  "kernelspec": {
   "display_name": "Python 3",
   "language": "python",
   "name": "python3"
  },
  "language_info": {
   "codemirror_mode": {
    "name": "ipython",
    "version": 3
   },
   "file_extension": ".py",
   "mimetype": "text/x-python",
   "name": "python",
   "nbconvert_exporter": "python",
   "pygments_lexer": "ipython3",
   "version": "3.6.2"
  }
 },
 "nbformat": 4,
 "nbformat_minor": 2
}
